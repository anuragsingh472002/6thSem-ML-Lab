{
  "nbformat": 4,
  "nbformat_minor": 0,
  "metadata": {
    "colab": {
      "provenance": [],
      "authorship_tag": "ABX9TyPSGnMk3d9xAvdgXzQ6xr53",
      "include_colab_link": true
    },
    "kernelspec": {
      "name": "python3",
      "display_name": "Python 3"
    },
    "language_info": {
      "name": "python"
    }
  },
  "cells": [
    {
      "cell_type": "markdown",
      "metadata": {
        "id": "view-in-github",
        "colab_type": "text"
      },
      "source": [
        "<a href=\"https://colab.research.google.com/github/anuragsingh472002/6thSem-ML-Lab/blob/main/ML_LAB_EXAM.ipynb\" target=\"_parent\"><img src=\"https://colab.research.google.com/assets/colab-badge.svg\" alt=\"Open In Colab\"/></a>"
      ]
    },
    {
      "cell_type": "code",
      "execution_count": null,
      "metadata": {
        "id": "FlRwjZ5p6L9f"
      },
      "outputs": [],
      "source": []
    },
    {
      "source": [
        "import tensorflow as tf\n",
        "\n",
        "# Load the MNIST dataset\n",
        "mnist = tf.keras.datasets.mnist\n",
        "(x_train, y_train), (x_test, y_test) = mnist.load_data()\n",
        "\n",
        "# Normalize the pixel values\n",
        "x_train, x_test = x_train / 255.0, x_test / 255.0\n",
        "\n",
        "# Reshape the images to include a channel dimension\n",
        "x_train = x_train[..., tf.newaxis]\n",
        "x_test = x_test[..., tf.newaxis]\n",
        "\n",
        "print(\"MNIST dataset loaded and preprocessed.\")\n",
        "print(\"Training data shape:\", x_train.shape)\n",
        "print(\"Testing data shape:\", x_test.shape)"
      ],
      "cell_type": "code",
      "metadata": {
        "colab": {
          "base_uri": "https://localhost:8080/"
        },
        "id": "ItBwLwjz7YvL",
        "outputId": "1326c754-f745-45dd-9a6a-19ea4277d0f0"
      },
      "execution_count": 2,
      "outputs": [
        {
          "output_type": "stream",
          "name": "stdout",
          "text": [
            "Downloading data from https://storage.googleapis.com/tensorflow/tf-keras-datasets/mnist.npz\n",
            "\u001b[1m11490434/11490434\u001b[0m \u001b[32m━━━━━━━━━━━━━━━━━━━━\u001b[0m\u001b[37m\u001b[0m \u001b[1m0s\u001b[0m 0us/step\n",
            "MNIST dataset loaded and preprocessed.\n",
            "Training data shape: (60000, 28, 28, 1)\n",
            "Testing data shape: (10000, 28, 28, 1)\n"
          ]
        }
      ]
    },
    {
      "cell_type": "code",
      "source": [
        "from IPython import get_ipython\n",
        "from IPython.display import display\n",
        "import tensorflow as tf\n",
        "from sklearn.ensemble import AdaBoostClassifier\n",
        "from sklearn.tree import DecisionTreeClassifier\n",
        "from sklearn.metrics import accuracy_score\n",
        "import numpy as np\n",
        "\n",
        "# Load the MNIST dataset\n",
        "mnist = tf.keras.datasets.mnist\n",
        "(x_train, y_train), (x_test, y_test) = mnist.load_data()\n",
        "\n",
        "# Normalize the pixel values\n",
        "x_train, x_test = x_train / 255.0, x_test / 255.0\n",
        "\n",
        "# Reshape the images to include a channel dimension\n",
        "x_train = x_train[..., tf.newaxis]\n",
        "x_test = x_test[..., tf.newaxis]\n",
        "\n",
        "print(\"MNIST dataset loaded and preprocessed.\")\n",
        "print(\"Training data shape:\", x_train.shape)\n",
        "print(\"Testing data shape:\", x_test.shape)\n",
        "\n",
        "# Flatten the image data for use with AdaBoost\n",
        "x_train_flat = x_train.reshape(x_train.shape[0], -1)\n",
        "x_test_flat = x_test.reshape(x_test.shape[0], -1)\n",
        "\n",
        "# Define the base estimator (decision stump)\n",
        "base_estimator = DecisionTreeClassifier(max_depth=1)\n",
        "\n",
        "# Define the AdaBoost classifier with increased estimators and adjusted learning rate\n",
        "n_estimators = 100  # Increased number of estimators\n",
        "learning_rate = 0.5 # Adjusted learning rate\n",
        "adaboost_clf = AdaBoostClassifier(estimator=base_estimator, n_estimators=n_estimators, learning_rate=learning_rate, random_state=42)\n",
        "\n",
        "# Train the AdaBoost classifier\n",
        "print(\"Training AdaBoost classifier...\")\n",
        "adaboost_clf.fit(x_train_flat, y_train)\n",
        "print(\"Training complete.\")\n",
        "\n",
        "# Evaluate the classifier on the test data\n",
        "y_pred = adaboost_clf.predict(x_test_flat)\n",
        "accuracy = accuracy_score(y_test, y_pred)\n",
        "\n",
        "print(f\"AdaBoost classifier accuracy on the test set: {accuracy:.4f}\")\n",
        "\n",
        "from sklearn.svm import SVC\n",
        "from sklearn.metrics import accuracy_score\n",
        "\n",
        "# Use a smaller subset of the data for faster training\n",
        "subset_size = 10000\n",
        "x_train_subset = x_train_flat[:subset_size]\n",
        "y_train_subset = y_train[:subset_size]\n",
        "\n",
        "# Define the SVM classifier\n",
        "# Using RBF kernel and default parameters for simplicity\n",
        "svm_clf = SVC(kernel='rbf')\n",
        "\n",
        "# Train the SVM classifier\n",
        "print(\"\\nTraining SVM classifier on a subset...\")\n",
        "svm_clf.fit(x_train_subset, y_train_subset)\n",
        "print(\"Training complete.\")\n",
        "\n",
        "# Evaluate the classifier on the test data\n",
        "y_pred_svm = svm_clf.predict(x_test_flat)\n",
        "accuracy_svm = accuracy_score(y_test, y_pred_svm)\n",
        "\n",
        "print(f\"SVM classifier accuracy on the test set: {accuracy_svm:.4f}\")"
      ],
      "metadata": {
        "colab": {
          "base_uri": "https://localhost:8080/"
        },
        "id": "7x_kO2Cl9M8l",
        "outputId": "a2089c12-b8a6-455e-cfa2-b03b8bddf8c3"
      },
      "execution_count": 7,
      "outputs": [
        {
          "output_type": "stream",
          "name": "stdout",
          "text": [
            "MNIST dataset loaded and preprocessed.\n",
            "Training data shape: (60000, 28, 28, 1)\n",
            "Testing data shape: (10000, 28, 28, 1)\n",
            "Training AdaBoost classifier...\n",
            "Training complete.\n",
            "AdaBoost classifier accuracy on the test set: 0.7129\n",
            "\n",
            "Training SVM classifier on a subset...\n",
            "Training complete.\n",
            "SVM classifier accuracy on the test set: 0.9594\n"
          ]
        }
      ]
    },
    {
      "cell_type": "code",
      "source": [
        "from sklearn.svm import SVC\n",
        "from sklearn.metrics import accuracy_score\n",
        "import numpy as np\n",
        "\n",
        "# Use a smaller subset of the data for faster training\n",
        "subset_size = 10000\n",
        "x_train_subset = x_train_flat[:subset_size]\n",
        "y_train_subset = y_train[:subset_size]\n",
        "\n",
        "# Define the SVM classifier\n",
        "# Using RBF kernel and default parameters for simplicity\n",
        "svm_clf = SVC(kernel='rbf')\n",
        "\n",
        "# Train the SVM classifier\n",
        "print(\"\\nTraining SVM classifier on a subset...\")\n",
        "svm_clf.fit(x_train_subset, y_train_subset)\n",
        "print(\"Training complete.\")\n",
        "\n",
        "# Evaluate the classifier on the test data\n",
        "y_pred_svm = svm_clf.predict(x_test_flat)\n",
        "accuracy_svm = accuracy_score(y_test, y_pred_svm)\n",
        "\n",
        "print(f\"SVM classifier accuracy on the test set: {accuracy_svm:.4f}\")"
      ],
      "metadata": {
        "colab": {
          "base_uri": "https://localhost:8080/"
        },
        "id": "i4jDKrmN-Ax7",
        "outputId": "cc9b2000-ae65-4fab-c74d-74c6459824f3"
      },
      "execution_count": 6,
      "outputs": [
        {
          "output_type": "stream",
          "name": "stdout",
          "text": [
            "\n",
            "Training SVM classifier on a subset...\n",
            "Training complete.\n",
            "SVM classifier accuracy on the test set: 0.9594\n"
          ]
        }
      ]
    }
  ]
}